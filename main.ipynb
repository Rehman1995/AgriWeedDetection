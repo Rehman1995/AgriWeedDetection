{
  "cells": [
    {
      "cell_type": "markdown",
      "metadata": {},
      "source": [
        "##  Phase 1 -- Weed Detection"
      ]
    },
    {
      "cell_type": "code",
      "execution_count": 1,
      "metadata": {},
      "outputs": [],
      "source": [
        "import os\n",
        "import torch"
      ]
    },
    {
      "cell_type": "markdown",
      "metadata": {},
      "source": [
        "## GPU Check"
      ]
    },
    {
      "cell_type": "code",
      "execution_count": 2,
      "metadata": {
        "id": "vXPyFyfdGolq"
      },
      "outputs": [
        {
          "name": "stdout",
          "output_type": "stream",
          "text": [
            "Wed Sep 27 17:11:44 2023       \n",
            "+-----------------------------------------------------------------------------+\n",
            "| NVIDIA-SMI 465.19.01    Driver Version: 465.19.01    CUDA Version: 11.3     |\n",
            "|-------------------------------+----------------------+----------------------+\n",
            "| GPU  Name        Persistence-M| Bus-Id        Disp.A | Volatile Uncorr. ECC |\n",
            "| Fan  Temp  Perf  Pwr:Usage/Cap|         Memory-Usage | GPU-Util  Compute M. |\n",
            "|                               |                      |               MIG M. |\n",
            "|===============================+======================+======================|\n",
            "|   0  NVIDIA TITAN Xp     On   | 00000000:04:00.0 Off |                  N/A |\n",
            "| 23%   30C    P8     8W / 250W |   1615MiB / 12196MiB |      0%   E. Process |\n",
            "|                               |                      |                  N/A |\n",
            "+-------------------------------+----------------------+----------------------+\n",
            "|   1  NVIDIA TITAN Xp     On   | 00000000:06:00.0 Off |                  N/A |\n",
            "| 23%   27C    P8     8W / 250W |    449MiB / 12196MiB |      0%   E. Process |\n",
            "|                               |                      |                  N/A |\n",
            "+-------------------------------+----------------------+----------------------+\n",
            "|   2  NVIDIA GeForce ...  On   | 00000000:07:00.0 Off |                  N/A |\n",
            "| 30%   33C    P8     7W / 250W |      3MiB / 11019MiB |      0%   E. Process |\n",
            "|                               |                      |                  N/A |\n",
            "+-------------------------------+----------------------+----------------------+\n",
            "|   3  NVIDIA TITAN Xp     On   | 00000000:08:00.0 Off |                  N/A |\n",
            "| 35%   58C    P2   324W / 250W |   4783MiB / 12196MiB |     83%   E. Process |\n",
            "|                               |                      |                  N/A |\n",
            "+-------------------------------+----------------------+----------------------+\n",
            "|   4  NVIDIA TITAN Xp     On   | 00000000:0C:00.0 Off |                  N/A |\n",
            "| 37%   60C    P2   251W / 250W |   4273MiB / 12196MiB |     76%   E. Process |\n",
            "|                               |                      |                  N/A |\n",
            "+-------------------------------+----------------------+----------------------+\n",
            "|   5  NVIDIA GeForce ...  On   | 00000000:0D:00.0 Off |                  N/A |\n",
            "| 45%   61C    P2   185W / 250W |  10772MiB / 11019MiB |     69%   E. Process |\n",
            "|                               |                      |                  N/A |\n",
            "+-------------------------------+----------------------+----------------------+\n",
            "|   6  NVIDIA TITAN Xp     On   | 00000000:0E:00.0 Off |                  N/A |\n",
            "| 39%   63C    P2   174W / 250W |  11671MiB / 12196MiB |     66%   E. Process |\n",
            "|                               |                      |                  N/A |\n",
            "+-------------------------------+----------------------+----------------------+\n",
            "|   7  NVIDIA TITAN Xp     On   | 00000000:0F:00.0 Off |                  N/A |\n",
            "| 38%   61C    P2   156W / 250W |  11671MiB / 12196MiB |     62%   E. Process |\n",
            "|                               |                      |                  N/A |\n",
            "+-------------------------------+----------------------+----------------------+\n",
            "                                                                               \n",
            "+-----------------------------------------------------------------------------+\n",
            "| Processes:                                                                  |\n",
            "|  GPU   GI   CI        PID   Type   Process name                  GPU Memory |\n",
            "|        ID   ID                                                   Usage      |\n",
            "|=============================================================================|\n",
            "|    0   N/A  N/A     17595      C   ...conda3/envs/l5/bin/python     1611MiB |\n",
            "|    1   N/A  N/A     13401      C   ...a3/envs/gincov/bin/python      445MiB |\n",
            "|    3   N/A  N/A     31920      C   ...conda3/envs/l5/bin/python     4773MiB |\n",
            "|    4   N/A  N/A     31921      C   ...conda3/envs/l5/bin/python     4269MiB |\n",
            "|    5   N/A  N/A     23921      C   ...onda3/envs/DDI/bin/python    10769MiB |\n",
            "|    6   N/A  N/A     10646      C   ...onda3/envs/DDI/bin/python    11667MiB |\n",
            "|    7   N/A  N/A     12791      C   ...onda3/envs/DDI/bin/python    11667MiB |\n",
            "+-----------------------------------------------------------------------------+\n"
          ]
        }
      ],
      "source": [
        "!nvidia-smi\n",
        "#import tensorflow as tf"
      ]
    },
    {
      "cell_type": "code",
      "execution_count": 3,
      "metadata": {
        "id": "vmSl0wgcGolq"
      },
      "outputs": [],
      "source": [
        "torch.cuda.empty_cache()"
      ]
    },
    {
      "cell_type": "code",
      "execution_count": 4,
      "metadata": {
        "id": "ZHbTmKEwGolr"
      },
      "outputs": [
        {
          "name": "stdout",
          "output_type": "stream",
          "text": [
            "/home/hasan/yolov5c\n",
            "Cloning into 'yolov5'...\n",
            "remote: Enumerating objects: 15937, done.\u001b[K\n",
            "remote: Counting objects: 100% (57/57), done.\u001b[K\n",
            "remote: Compressing objects: 100% (35/35), done.\u001b[K\n",
            "remote: Total 15937 (delta 27), reused 39 (delta 22), pack-reused 15880\u001b[K\n",
            "Receiving objects: 100% (15937/15937), 14.66 MiB | 20.97 MiB/s, done.\n",
            "Resolving deltas: 100% (10926/10926), done.\n",
            "/home/hasan/yolov5c/yolov5\n",
            "HEAD is now at 064365d Update parse_opt() in export.py to work as in train.py (#10789)\n"
          ]
        }
      ],
      "source": [
        "%cd /home/yolov5c/\n",
        "# clone YOLOv5 repository\n",
        "!git clone https://github.com/ultralytics/yolov5  # clone repo\n",
        "%cd yolov5\n",
        "!git reset --hard 064365d8683fd002e9ad789c1e91fa3d021b44f0"
      ]
    },
    {
      "cell_type": "code",
      "execution_count": null,
      "metadata": {
        "id": "qMEdZT83Golr"
      },
      "outputs": [],
      "source": [
        "# install dependencies as necessary\n",
        "%cd  D:/yolov5c/yolov5/\n",
        "\n",
        "!pip install -qr requirements.txt  # install dependencies (ignore errors)\n",
        "import torch\n",
        "\n",
        "from IPython.display import Image, clear_output  # to display images\n",
        "from utils.downloads import attempt_download  # to download models/datasets\n",
        "\n",
        "# clear_output()\n",
        "print('Setup complete. Using torch %s %s' % (torch.__version__, torch.cuda.get_device_properties(0) if torch.cuda.is_available() else 'CPU'))\n"
      ]
    },
    {
      "cell_type": "markdown",
      "metadata": {
        "id": "3ZgssJEWGols"
      },
      "source": [
        "## roboflow workspace"
      ]
    },
    {
      "cell_type": "code",
      "execution_count": 2,
      "metadata": {
        "id": "haXCJi-MGolt"
      },
      "outputs": [
        {
          "name": "stdout",
          "output_type": "stream",
          "text": [
            "/home/hasan/yolov5c/yolov5\n",
            "Requirement already satisfied: roboflow in /home/hasan/miniconda3/envs/l5/lib/python3.11/site-packages (1.1.0)\n",
            "Requirement already satisfied: certifi==2022.12.7 in /home/hasan/miniconda3/envs/l5/lib/python3.11/site-packages (from roboflow) (2022.12.7)\n",
            "Requirement already satisfied: chardet==4.0.0 in /home/hasan/miniconda3/envs/l5/lib/python3.11/site-packages (from roboflow) (4.0.0)\n",
            "Requirement already satisfied: cycler==0.10.0 in /home/hasan/miniconda3/envs/l5/lib/python3.11/site-packages (from roboflow) (0.10.0)\n",
            "Requirement already satisfied: idna==2.10 in /home/hasan/miniconda3/envs/l5/lib/python3.11/site-packages (from roboflow) (2.10)\n",
            "Requirement already satisfied: kiwisolver>=1.3.1 in /home/hasan/miniconda3/envs/l5/lib/python3.11/site-packages (from roboflow) (1.4.4)\n",
            "Requirement already satisfied: matplotlib in /home/hasan/miniconda3/envs/l5/lib/python3.11/site-packages (from roboflow) (3.7.2)\n",
            "Requirement already satisfied: numpy>=1.18.5 in /home/hasan/miniconda3/envs/l5/lib/python3.11/site-packages (from roboflow) (1.23.5)\n",
            "Requirement already satisfied: opencv-python>=4.1.2 in /home/hasan/miniconda3/envs/l5/lib/python3.11/site-packages (from roboflow) (4.8.0.74)\n",
            "Requirement already satisfied: Pillow>=7.1.2 in /home/hasan/miniconda3/envs/l5/lib/python3.11/site-packages (from roboflow) (9.3.0)\n",
            "Requirement already satisfied: pyparsing==2.4.7 in /home/hasan/miniconda3/envs/l5/lib/python3.11/site-packages (from roboflow) (2.4.7)\n",
            "Requirement already satisfied: python-dateutil in /home/hasan/miniconda3/envs/l5/lib/python3.11/site-packages (from roboflow) (2.8.2)\n",
            "Requirement already satisfied: python-dotenv in /home/hasan/miniconda3/envs/l5/lib/python3.11/site-packages (from roboflow) (1.0.0)\n",
            "Requirement already satisfied: requests in /home/hasan/miniconda3/envs/l5/lib/python3.11/site-packages (from roboflow) (2.31.0)\n",
            "Requirement already satisfied: six in /home/hasan/miniconda3/envs/l5/lib/python3.11/site-packages (from roboflow) (1.16.0)\n",
            "Requirement already satisfied: supervision in /home/hasan/miniconda3/envs/l5/lib/python3.11/site-packages (from roboflow) (0.11.1)\n",
            "Requirement already satisfied: urllib3>=1.26.6 in /home/hasan/miniconda3/envs/l5/lib/python3.11/site-packages (from roboflow) (1.26.16)\n",
            "Requirement already satisfied: wget in /home/hasan/miniconda3/envs/l5/lib/python3.11/site-packages (from roboflow) (3.2)\n",
            "Requirement already satisfied: tqdm>=4.41.0 in /home/hasan/miniconda3/envs/l5/lib/python3.11/site-packages (from roboflow) (4.65.0)\n",
            "Requirement already satisfied: PyYAML>=5.3.1 in /home/hasan/miniconda3/envs/l5/lib/python3.11/site-packages (from roboflow) (6.0.1)\n",
            "Requirement already satisfied: requests-toolbelt in /home/hasan/miniconda3/envs/l5/lib/python3.11/site-packages (from roboflow) (1.0.0)\n",
            "Requirement already satisfied: contourpy>=1.0.1 in /home/hasan/miniconda3/envs/l5/lib/python3.11/site-packages (from matplotlib->roboflow) (1.1.0)\n",
            "Requirement already satisfied: fonttools>=4.22.0 in /home/hasan/miniconda3/envs/l5/lib/python3.11/site-packages (from matplotlib->roboflow) (4.40.0)\n",
            "Requirement already satisfied: packaging>=20.0 in /home/hasan/miniconda3/envs/l5/lib/python3.11/site-packages (from matplotlib->roboflow) (23.1)\n",
            "Requirement already satisfied: charset-normalizer<4,>=2 in /home/hasan/miniconda3/envs/l5/lib/python3.11/site-packages (from requests->roboflow) (3.1.0)\n",
            "loading Roboflow workspace...\n",
            "loading Roboflow project...\n"
          ]
        },
        {
          "name": "stdout",
          "output_type": "stream",
          "text": [
            "Downloading Dataset Version Zip in a1-5 to yolov5pytorch: 100% [204771629 / 204771629] bytes\n"
          ]
        },
        {
          "name": "stderr",
          "output_type": "stream",
          "text": [
            "Extracting Dataset Version Zip to a1-5 in yolov5pytorch:: 100%|██████████| 4506/4506 [00:00<00:00, 4922.35it/s]\n"
          ]
        }
      ],
      "source": [
        "%cd  /home/hasan/yolov5c/yolov5/\n",
        "\n",
        "!pip install roboflow\n",
        "\n",
        "from roboflow import Roboflow\n",
        "rf = Roboflow(api_key=\"hmBwY34xtrDZLCDLvFT2\")\n",
        "project = rf.workspace(\"jbnu-bf4ij\").project(\"a1-gmrlg\")\n",
        "dataset = project.version(5).download(\"yolov5\")\n"
      ]
    },
    {
      "cell_type": "markdown",
      "metadata": {
        "id": "YZojnRNHGolv"
      },
      "source": [
        "## yolov5s selection"
      ]
    },
    {
      "cell_type": "code",
      "execution_count": 3,
      "metadata": {
        "id": "h361fA0FGolv"
      },
      "outputs": [
        {
          "name": "stdout",
          "output_type": "stream",
          "text": [
            "/home/hasan/yolo5/yolov5/models\n",
            "# YOLOv5 🚀 by Ultralytics, GPL-3.0 license\n",
            "\n",
            "# Parameters\n",
            "nc: 1  # number of classes\n",
            "depth_multiple: 0.33  # model depth multiple\n",
            "width_multiple: 0.50  # layer channel multiple\n",
            "anchors:\n",
            "  - [28,30, 41,41, 54,54]  \n",
            "  - [90,34, 44,103, 71,70]\n",
            "  - [107,107, 280,84, 243,257]\n",
            "  \n",
            "\n",
            "# YOLOv5 v6.0 backbone\n",
            "backbone:\n",
            "  # [from, number, module, args]\n",
            "  [[-1, 3, Conv, [128, 6, 2, 2]],  # 0-P1/2\n",
            "   [-1, 1, Conv, [256, 3, 2]],  # 1-P2/4\n",
            "   [-1, 3, BottleneckCSP, [128,3]],\n",
            "   [-1, 3, GhostConv, [128, 3, 2]],  # 3-P3/8\n",
            "   [-1, 6, eca_layer, [128]],\n",
            "   [-1, 1, Conv, [256, 3, 2]],  # 5-P4/16\n",
            "   [-1, 9, BottleneckCSP, [192]],\n",
            "   [-1, 1, Conv, [512, 3, 2]],  # 7-P5/32\n",
            "   [-1, 3, eca_layer, [512]],\n",
            "   [-1, 1, SPPF, [1024, 5]],  # 9\n",
            "  ]\n",
            "\n",
            "# YOLOv5 v6.0 head\n",
            "head:\n",
            "  [[-1, 3, GhostConv, [512, 1, 1]],\n",
            "   [-1, 1, nn.Upsample, [None, 2, 'nearest']],\n",
            "   [[-1, 6], 1, Concat, [1]],  # cat backbone P4\n",
            "   [-1, 6, eca_layer, [256]],  # 13\n",
            "\n",
            "   [-1, 3, GhostConv, [192, 1, 1]],\n",
            "   [-1, 1, nn.Upsample, [None, 2, 'nearest']],\n",
            "   [[-1, 4], 1, Concat, [1]],  # cat backbone P3\n",
            "   [-1, 6, C3, [128, False]],  # 17 (P3/8-small)\n",
            "\n",
            "   [-1, 2, GhostConv, [256, 3, 2]],\n",
            "   [[-1, 14], 1, Concat, [1]],  # cat head P4\n",
            "   [-1, 6, eca_layer, [128]],  # 20 (P4/16-medium)\n",
            "\n",
            "   [-1, 2, GhostConv, [512, 3, 2]],\n",
            "   [[-1, 10], 1, Concat, [1]],  # cat head P5\n",
            "   [-1, 2, BottleneckCSP, [1024]],  # 23 (P5/32-large)\n",
            "\n",
            "   [[17, 20, 23], 1, Detect, [nc, anchors]],  # Detect(P3, P4, P5)\n",
            "  ]"
          ]
        }
      ],
      "source": [
        "#this is the model configuration we will use for our tutorial\n",
        "%cd  /home/hasan/yolo5/yolov5/models/\n",
        "\n",
        "%cat \"/home/hasan/yolo5/yolov5/models/yolov5s_modified.yaml\""
      ]
    },
    {
      "cell_type": "markdown",
      "metadata": {
        "id": "aQ4g3oYQGolw"
      },
      "source": [
        "## train and valid zip files extract"
      ]
    },
    {
      "cell_type": "code",
      "execution_count": 68,
      "metadata": {
        "id": "G6p1LnOIGolw"
      },
      "outputs": [],
      "source": [
        "import glob\n",
        "import zipfile\n",
        "\n",
        "# importing the zipfile module\n",
        "from zipfile import ZipFile\n",
        "\n",
        "# loading the temp.zip and creating a zip object\n",
        "with ZipFile(\"/home/hasan/yolo5/yolov5/dna3-10/adata/validp1f.zip\", 'r') as zObject:\n",
        "\n",
        "    # Extracting all the members of the zip\n",
        "    # into a specific location.\n",
        "    zObject.extractall(\n",
        "        path=(\"/home/hasan/yolo5/yolov5/dna3-10/adata/\"))"
      ]
    },
    {
      "cell_type": "markdown",
      "metadata": {
        "id": "JnsnRu7wGolw"
      },
      "source": [
        "## training"
      ]
    },
    {
      "cell_type": "code",
      "execution_count": null,
      "metadata": {
        "id": "hfyP6mJxGolw",
        "outputId": "0fe14059-f49c-4a08-a61d-4029412209a6"
      },
      "outputs": [],
      "source": [
        "\n",
        "# time its performance\n",
        "#\n",
        "%cd /home/hasan/yolo5/yolov5/\n",
        "#!python -m torch.distributed.run --nproc_per_node 2 train.py --img-size 640 --batch 16 --epochs 250 --data /home/hasan/yolo5/yolov5/dna3-10/data.yaml --cfg ./models/yolov5m.yaml --weights '' --name yolov5m_results  --optimizer SGD --cache\n",
        "! python  -m torch.distributed.run --nproc_per_node 2  train.py --img-size 640 --hyp \"/home/hasan/yolov5c/yolov5/data/hyps/hyp.scratch-low.yaml\"   --epochs 200  --batch 32  --data \"/home/hasan/yolo5/yolov5/dna3-10/adata/datap1t.yaml\"   --cfg  \"/home/hasan/yolo5/yolov5/models/yolov5s_modified.yaml\" --weights \"\"    --name yolov5smodfin   --cache     --device 4,5"
      ]
    },
    {
      "cell_type": "markdown",
      "metadata": {
        "id": "o-rPneYhGolx"
      },
      "source": [
        "## evaluate the model performance"
      ]
    },
    {
      "cell_type": "code",
      "execution_count": null,
      "metadata": {
        "id": "RhHQDPNgGolx",
        "outputId": "f2d59367-71e8-4070-af53-b41461426ddd"
      },
      "outputs": [],
      "source": [
        "# eval yolov5s on custom data for 100 epochs\n",
        "# time its performance# 1120 best results if trained on 800\n",
        "#%%time\n",
        "%cd /home/hasan/yolo5/yolov5/\n",
        "!python val.py --img 640  --data \"/home/hasan/yolo5/yolov5/dna3-10/adata/datap1e.yaml\"      --weights \"/home/hasan/yolo5/yolov5/runs/train/yolov5smodfin5/weights/best.pt\"   --iou-thres 0.45 --batch 16   --device 4"
      ]
    },
    {
      "cell_type": "markdown",
      "metadata": {
        "id": "7ROK-FU3Golx"
      },
      "source": [
        "## load the weights of trained model"
      ]
    },
    {
      "cell_type": "code",
      "execution_count": 5,
      "metadata": {
        "id": "dV5b5ZnYGolx"
      },
      "outputs": [
        {
          "name": "stdout",
          "output_type": "stream",
          "text": [
            "/home/hasan/yolo5/yolov5\n",
            "best.pt  last.pt\n"
          ]
        }
      ],
      "source": [
        "##  change the path\n",
        "%cd /home/hasan/yolo5/yolov5/\n",
        "%ls runs/train/yolov5sp1f3/weights "
      ]
    },
    {
      "cell_type": "markdown",
      "metadata": {
        "id": "NjVuc0eoGolx"
      },
      "source": [
        "## extract test images"
      ]
    },
    {
      "cell_type": "code",
      "execution_count": 76,
      "metadata": {
        "id": "i0_t-dAyGolx"
      },
      "outputs": [],
      "source": [
        "import glob\n",
        "import zipfile\n",
        "\n",
        "# importing the zipfile module\n",
        "from zipfile import ZipFile\n",
        "\n",
        "# loading the temp.zip and creating a zip object\n",
        "with ZipFile(\"/home/hasan/yolo5/testp1f.zip\", 'r') as zObject:\n",
        "\n",
        "    # Extracting all the members of the zip\n",
        "    # into a specific location.\n",
        "    zObject.extractall(\n",
        "        path=(\"/home/hasan/yolo5/\"))"
      ]
    },
    {
      "cell_type": "code",
      "execution_count": null,
      "metadata": {
        "id": "53gNNILzGoly"
      },
      "outputs": [],
      "source": [
        "import torch\n",
        "print(torch.__version__)"
      ]
    },
    {
      "cell_type": "code",
      "execution_count": null,
      "metadata": {
        "id": "rOSlm4FNGoly"
      },
      "outputs": [],
      "source": [
        "import sys\n",
        "print(sys.version)"
      ]
    },
    {
      "cell_type": "markdown",
      "metadata": {
        "id": "oSaxoEWLGoly"
      },
      "source": [
        "## inference mode"
      ]
    },
    {
      "cell_type": "code",
      "execution_count": null,
      "metadata": {
        "id": "_W6G1oD8Goly"
      },
      "outputs": [],
      "source": [
        "\n",
        "# when we ran this, we saw .007 second inference time. That is 140 FPS on a TESLA P100!\n",
        "# use the best weights!\n",
        "%cd /home/hasan/yolo5/yolov5/\n",
        "!python detect.py --weights \"/home/hasan/yolo5/yolov5/runs/train/yolov5sp1f3/weights/best.pt\"   --nosave --view-img --source \"/home/hasan/yolo5/yolov5/dna3-10/adata/testp1f/images/\"   --conf 0.1  --name NAME --device 3\n",
        " "
      ]
    },
    {
      "cell_type": "code",
      "execution_count": 4,
      "metadata": {},
      "outputs": [
        {
          "name": "stdout",
          "output_type": "stream",
          "text": [
            "Requirement already satisfied: opencv-python in /home/hasan/miniconda3/envs/l5/lib/python3.11/site-packages (4.8.0.74)\n",
            "Requirement already satisfied: numpy>=1.21.2 in /home/hasan/miniconda3/envs/l5/lib/python3.11/site-packages (from opencv-python) (1.23.5)\n",
            "Note: you may need to restart the kernel to use updated packages.\n"
          ]
        }
      ],
      "source": [
        "pip install opencv-python"
      ]
    },
    {
      "cell_type": "markdown",
      "metadata": {
        "id": "83JTI8RKGoly"
      },
      "source": [
        "## display images"
      ]
    },
    {
      "cell_type": "code",
      "execution_count": null,
      "metadata": {
        "id": "ayinhf6yGoly"
      },
      "outputs": [],
      "source": [
        "#display inference on ALL test images\n",
        "#this looks much better with longer training above\n",
        "\n",
        "import glob\n",
        "from IPython.display import Image, display\n",
        "\n",
        "for imageName in glob.glob(\"/home/hasan/yolo5/yolov5/runs/detect/NAME44/*.jpg\"): #assuming JPG\n",
        "    display(Image(filename=imageName))\n",
        "    print(\"\\n\")"
      ]
    }
  ],
  "metadata": {
    "colab": {
      "provenance": []
    },
    "kernelspec": {
      "display_name": "l5",
      "language": "python",
      "name": "python3"
    },
    "language_info": {
      "codemirror_mode": {
        "name": "ipython",
        "version": 3
      },
      "file_extension": ".py",
      "mimetype": "text/x-python",
      "name": "python",
      "nbconvert_exporter": "python",
      "pygments_lexer": "ipython3",
      "version": "3.11.4"
    },
    "orig_nbformat": 4
  },
  "nbformat": 4,
  "nbformat_minor": 0
}
